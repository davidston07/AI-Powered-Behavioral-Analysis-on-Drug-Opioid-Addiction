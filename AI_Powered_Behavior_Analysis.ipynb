{
  "nbformat": 4,
  "nbformat_minor": 0,
  "metadata": {
    "colab": {
      "provenance": [],
      "machine_shape": "hm"
    },
    "kernelspec": {
      "name": "python3",
      "display_name": "Python 3"
    },
    "language_info": {
      "name": "python"
    }
  },
  "cells": [
    {
      "cell_type": "code",
      "execution_count": null,
      "metadata": {
        "colab": {
          "base_uri": "https://localhost:8080/"
        },
        "id": "rAOVM5kBGrgK",
        "outputId": "d76193ee-98dc-4205-cf0d-9f79b5459ad3"
      },
      "outputs": [
        {
          "output_type": "stream",
          "name": "stdout",
          "text": [
            "Mounted at /content/drive\n"
          ]
        }
      ],
      "source": [
        "from google.colab import drive\n",
        "drive.mount('/content/drive') # Mount to the '/content/drive' directory"
      ]
    },
    {
      "cell_type": "code",
      "source": [
        "!git init\n",
        "!git add .\n",
        "!git commit -m \"commit message\"\n",
        "!git config --global user.email \"prognij33@gmail.com\"\n",
        "!git config --global user.name \"Galib\"\n",
        "!git branch -M main\n",
        "!git remote add origin https://github.com/azrafnijhum/Specialized__Study_CS.git\n",
        "!git push -u origin main"
      ],
      "metadata": {
        "colab": {
          "base_uri": "https://localhost:8080/"
        },
        "id": "zlgdOUTtdXLn",
        "outputId": "83bbf14f-418a-4dc9-bcdf-7f7f4d72ac8d"
      },
      "execution_count": null,
      "outputs": [
        {
          "output_type": "stream",
          "name": "stdout",
          "text": [
            "Reinitialized existing Git repository in /content/.git/\n",
            "error: open(\"drive/MyDrive/Salary Sheet (2021 July-2022 Jun) .gsheet\"): Operation not supported\n",
            "error: unable to index file 'drive/MyDrive/Salary Sheet (2021 July-2022 Jun) .gsheet'\n",
            "fatal: adding files failed\n",
            "On branch main\n",
            "Untracked files:\n",
            "  (use \"git add <file>...\" to include in what will be committed)\n",
            "\t\u001b[31mdrive/\u001b[m\n",
            "\n",
            "nothing added to commit but untracked files present (use \"git add\" to track)\n",
            "error: remote origin already exists.\n",
            "fatal: could not read Username for 'https://github.com': No such device or address\n"
          ]
        }
      ]
    },
    {
      "cell_type": "code",
      "source": [
        "!git remote add origin https://github.com/azrafnijhum/Specialized__Study_CS.git\n",
        "!git branch -M main\n",
        "!git push -u origin main"
      ],
      "metadata": {
        "colab": {
          "base_uri": "https://localhost:8080/"
        },
        "id": "IMK7QfzQgIA4",
        "outputId": "e4cb7c59-378a-47d8-88cc-616028368ebd"
      },
      "execution_count": null,
      "outputs": [
        {
          "output_type": "stream",
          "name": "stdout",
          "text": [
            "error: remote origin already exists.\n",
            "fatal: could not read Username for 'https://github.com': No such device or address\n"
          ]
        }
      ]
    },
    {
      "cell_type": "code",
      "source": [
        "import numpy as np\n",
        "import pandas as pd\n",
        "import matplotlib as plt"
      ],
      "metadata": {
        "id": "Mqo90x_BHOfb"
      },
      "execution_count": null,
      "outputs": []
    },
    {
      "cell_type": "code",
      "source": [
        "import pandas as pd\n",
        "\n",
        "data = pd.read_csv(\"/content/drive/MyDrive/Dataset_National_Drug/NSDUH_2015-2019.csv\")\n",
        "# print(data.head())\n",
        "# print(data.head(5))\n",
        "print(data.head(1))\n"
      ],
      "metadata": {
        "id": "hgjVItE9rYBv",
        "colab": {
          "base_uri": "https://localhost:8080/"
        },
        "outputId": "b87eafbb-eaf0-4e5c-dc37-2e3e6f1dbad8"
      },
      "execution_count": null,
      "outputs": [
        {
          "output_type": "stream",
          "name": "stderr",
          "text": [
            "<ipython-input-3-09acc89d3660>:3: DtypeWarning: Columns (2512) have mixed types. Specify dtype option on import or set low_memory=False.\n",
            "  data = pd.read_csv(\"/content/drive/MyDrive/Dataset_National_Drug/NSDUH_2015-2019.csv\")\n"
          ]
        },
        {
          "output_type": "stream",
          "name": "stdout",
          "text": [
            "   cigever  cigofrsm  cigwilyr  cigtry  cigyfu  cigmfu  cigrec  cig30use  \\\n",
            "0        1        99        99      16    2014       1       2        93   \n",
            "\n",
            "   cg30est  cig30av  ...  casuprob2  rcvysubprb  camhprob2  rcvymhprb  \\\n",
            "0       93       93  ...        NaN         NaN        NaN        NaN   \n",
            "\n",
            "   almedyr2  opmedyr2  alopmedyr  kratflg  kratyr  kratmon  \n",
            "0       NaN       NaN        NaN      NaN     NaN      NaN  \n",
            "\n",
            "[1 rows x 2812 columns]\n"
          ]
        }
      ]
    },
    {
      "cell_type": "code",
      "source": [
        "print(data.head(5))"
      ],
      "metadata": {
        "colab": {
          "base_uri": "https://localhost:8080/"
        },
        "id": "gR5Veh9DcwNV",
        "outputId": "621e3a69-4550-4dc7-e91b-b5ba095eb935"
      },
      "execution_count": null,
      "outputs": [
        {
          "output_type": "stream",
          "name": "stdout",
          "text": [
            "   cigever  cigofrsm  cigwilyr  cigtry  cigyfu  cigmfu  cigrec  cig30use  \\\n",
            "0        1        99        99      16    2014       1       2        93   \n",
            "1        1        99        99      15    9999      99       3        93   \n",
            "2        2        99        99     991    9991      91      91        91   \n",
            "3        2         3         4     991    9991      91      91        91   \n",
            "4        1        99        99      17    9999      99       1        22   \n",
            "\n",
            "   cg30est  cig30av  ...  casuprob2  rcvysubprb  camhprob2  rcvymhprb  \\\n",
            "0       93       93  ...        NaN         NaN        NaN        NaN   \n",
            "1       93       93  ...        NaN         NaN        NaN        NaN   \n",
            "2       91       91  ...        NaN         NaN        NaN        NaN   \n",
            "3       91       91  ...        NaN         NaN        NaN        NaN   \n",
            "4       99        3  ...        NaN         NaN        NaN        NaN   \n",
            "\n",
            "   almedyr2  opmedyr2  alopmedyr  kratflg  kratyr  kratmon  \n",
            "0       NaN       NaN        NaN      NaN     NaN      NaN  \n",
            "1       NaN       NaN        NaN      NaN     NaN      NaN  \n",
            "2       NaN       NaN        NaN      NaN     NaN      NaN  \n",
            "3       NaN       NaN        NaN      NaN     NaN      NaN  \n",
            "4       NaN       NaN        NaN      NaN     NaN      NaN  \n",
            "\n",
            "[5 rows x 2812 columns]\n"
          ]
        }
      ]
    },
    {
      "cell_type": "code",
      "source": [
        "first_column = data[data.columns[0]]  # Using column name\n",
        "\n",
        "print(first_column)"
      ],
      "metadata": {
        "colab": {
          "base_uri": "https://localhost:8080/"
        },
        "id": "sh1xsMhP-TKl",
        "outputId": "80d7b1fa-d01c-420f-98e5-c4cf17436b5e"
      },
      "execution_count": null,
      "outputs": [
        {
          "output_type": "stream",
          "name": "stdout",
          "text": [
            "0         1\n",
            "1         1\n",
            "2         2\n",
            "3         2\n",
            "4         1\n",
            "         ..\n",
            "282763    1\n",
            "282764    2\n",
            "282765    2\n",
            "282766    2\n",
            "282767    2\n",
            "Name: cigever, Length: 282768, dtype: int64\n"
          ]
        }
      ]
    },
    {
      "cell_type": "code",
      "source": [
        "column1 = data[\"opinmyr\"]\n",
        "print(column1)\n",
        "column2 = data[\"opinmmon\"]\n",
        "print(column2)"
      ],
      "metadata": {
        "colab": {
          "base_uri": "https://localhost:8080/"
        },
        "id": "KMswUL0iap3_",
        "outputId": "cde426c4-09a8-448b-89a4-e7b40cb3b494"
      },
      "execution_count": null,
      "outputs": [
        {
          "output_type": "stream",
          "name": "stdout",
          "text": [
            "0         0\n",
            "1         0\n",
            "2         0\n",
            "3         0\n",
            "4         0\n",
            "         ..\n",
            "282763    0\n",
            "282764    0\n",
            "282765    0\n",
            "282766    0\n",
            "282767    0\n",
            "Name: opinmyr, Length: 282768, dtype: int64\n",
            "0         0\n",
            "1         0\n",
            "2         0\n",
            "3         0\n",
            "4         0\n",
            "         ..\n",
            "282763    0\n",
            "282764    0\n",
            "282765    0\n",
            "282766    0\n",
            "282767    0\n",
            "Name: opinmmon, Length: 282768, dtype: int64\n"
          ]
        }
      ]
    },
    {
      "cell_type": "code",
      "source": [
        "import pandas as pd\n",
        "\n",
        "data = pd.read_csv(\"/content/drive/MyDrive/Dataset_National_Drug/NSDUH_2015-2019.csv\")\n",
        "\n",
        "# columns = [\"OPINMYR\", \"OPINMMON\"]\n",
        "columns = [\"opinmyr\", \"opinmmon\"]\n",
        "new_dataset = data[columns]\n",
        "\n",
        "# Save the new dataset to a CSV file\n",
        "new_dataset.to_csv(\"new_dataset.csv\", index=False)\n",
        "\n",
        "print(\"New CSV file saved successfully!\")\n",
        "print(new_dataset.head())\n"
      ],
      "metadata": {
        "colab": {
          "base_uri": "https://localhost:8080/"
        },
        "id": "JZL1su3u-Yl8",
        "outputId": "a854bd58-6034-4839-b5ba-23edd0ec79b5"
      },
      "execution_count": null,
      "outputs": [
        {
          "output_type": "stream",
          "name": "stderr",
          "text": [
            "<ipython-input-7-aea399a31ff4>:3: DtypeWarning: Columns (2512) have mixed types. Specify dtype option on import or set low_memory=False.\n",
            "  data = pd.read_csv(\"/content/drive/MyDrive/Dataset_National_Drug/NSDUH_2015-2019.csv\")\n"
          ]
        },
        {
          "output_type": "stream",
          "name": "stdout",
          "text": [
            "New CSV file saved successfully!\n",
            "   opinmyr  opinmmon\n",
            "0        0         0\n",
            "1        0         0\n",
            "2        0         0\n",
            "3        0         0\n",
            "4        0         0\n"
          ]
        }
      ]
    },
    {
      "cell_type": "code",
      "source": [
        "print(new_dataset)"
      ],
      "metadata": {
        "colab": {
          "base_uri": "https://localhost:8080/"
        },
        "id": "nBYlFqRp4KU7",
        "outputId": "1d05d10c-822d-4234-ccfa-60e4e63f3277"
      },
      "execution_count": null,
      "outputs": [
        {
          "output_type": "stream",
          "name": "stdout",
          "text": [
            "        opinmyr  opinmmon\n",
            "0             0         0\n",
            "1             0         0\n",
            "2             0         0\n",
            "3             0         0\n",
            "4             0         0\n",
            "...         ...       ...\n",
            "282763        0         0\n",
            "282764        0         0\n",
            "282765        0         0\n",
            "282766        0         0\n",
            "282767        0         0\n",
            "\n",
            "[282768 rows x 2 columns]\n"
          ]
        }
      ]
    }
  ]
}